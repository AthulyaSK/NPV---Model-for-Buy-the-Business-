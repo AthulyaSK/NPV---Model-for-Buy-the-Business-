{
  "nbformat": 4,
  "nbformat_minor": 0,
  "metadata": {
    "colab": {
      "provenance": [],
      "collapsed_sections": []
    },
    "kernelspec": {
      "name": "python3",
      "display_name": "Python 3"
    },
    "language_info": {
      "name": "python"
    }
  },
  "cells": [
    {
      "cell_type": "markdown",
      "source": [
        "#Buy the Business Model\n",
        "\n",
        "##Analyze the business and decide whether you should buy it for an amount of $10 million\n",
        "\n"
      ],
      "metadata": {
        "id": "-v9fqsSO2qdL"
      }
    },
    {
      "cell_type": "code",
      "source": [
        "#input parameters\n",
        "\n",
        "sales_price = 80\n",
        "sales_price_agr = 0.05\n",
        "\n",
        "sales_volume = 120000\n",
        "sales_volume_agr = 0.075\n",
        "\n",
        "variable_cost = 50\n",
        "variable_cost_agr = 0.02\n",
        "\n",
        "fixed_cost = 32000\n",
        "\n",
        "sga_expenserate = 0.08\n",
        "\n",
        "effective_taxrate = 0.34\n",
        "\n",
        "purchase_price = 10000000\n",
        "\n",
        "discount_rate = 0.1\n",
        "\n",
        "num_years = 5"
      ],
      "metadata": {
        "id": "ktRwuO7g2oHQ"
      },
      "execution_count": 42,
      "outputs": []
    },
    {
      "cell_type": "code",
      "source": [
        "#Revenue\n",
        "sales_volume_agr_yrs = [(1+sales_volume_agr)**i for i in range(num_years)]\n",
        "sales_volume_yrs = [(sales_volume*sales_volume_agr_yrs[i]) for i in range(num_years)]\n",
        "print(\"Sales(Units) =\", sales_volume_yrs)\n",
        "sales_price_agr_yrs = [(1+sales_price_agr)**i for i in range(num_years)]\n",
        "sales_price_yrs = [(sales_price*sales_price_agr_yrs[i]) for i in range(num_years)]\n",
        "print(\"Sales Price =\", sales_price_yrs)\n",
        "sales_rev = [(sales_volume_yrs[i]*sales_price_yrs[i]) for i in range(num_years)]\n",
        "print(\"Sales Revenue =\", sales_rev)"
      ],
      "metadata": {
        "colab": {
          "base_uri": "https://localhost:8080/"
        },
        "id": "AYcoo_-m5HR0",
        "outputId": "40215f90-1c69-4d21-db85-d016d4db7c27"
      },
      "execution_count": 43,
      "outputs": [
        {
          "output_type": "stream",
          "name": "stdout",
          "text": [
            "Sales(Units) = [120000.0, 129000.0, 138675.0, 149075.62499999997, 160256.296875]\n",
            "Sales Price = [80.0, 84.0, 88.2, 92.61000000000001, 97.24050000000003]\n",
            "Sales Revenue = [9600000.0, 10836000.0, 12231135.0, 13805893.63125, 15583402.43627344]\n"
          ]
        }
      ]
    },
    {
      "cell_type": "code",
      "source": [
        "#Production cost\n",
        "variable_cost_agr_yrs = [(1+variable_cost_agr)**i for i in range(num_years)]\n",
        "variable_cost_yrs = [(variable_cost*variable_cost_agr_yrs[i]) for i in range(num_years)]\n",
        "total_variable_cost = [variable_cost_yrs[i]*sales_volume_yrs[i] for i in range(num_years)]\n",
        "print(\"Variable cost =\", total_variable_cost)\n",
        "fixed_cost_yrs = [fixed_cost, fixed_cost, fixed_cost, fixed_cost, fixed_cost]\n",
        "print(\"Fixed cost =\", fixed_cost_yrs)\n",
        "total_production_cost = [total_variable_cost[i]+fixed_cost_yrs[i] for i in range(num_years)]\n",
        "print(\"Total cost =\", total_production_cost)\n"
      ],
      "metadata": {
        "colab": {
          "base_uri": "https://localhost:8080/"
        },
        "id": "PwgDmsVlAInW",
        "outputId": "f750fb22-ad6b-4cc4-f09b-7fbb9a867c07"
      },
      "execution_count": 44,
      "outputs": [
        {
          "output_type": "stream",
          "name": "stdout",
          "text": [
            "Variable cost = [6000000.0, 6579000.0, 7213873.499999999, 7910012.29275, 8673328.479000375]\n",
            "Fixed cost = [32000, 32000, 32000, 32000, 32000]\n",
            "Total cost = [6032000.0, 6611000.0, 7245873.499999999, 7942012.29275, 8705328.479000375]\n"
          ]
        }
      ]
    },
    {
      "cell_type": "code",
      "source": [
        "#Other Expenses\n",
        "sga_expenserate_yrs = [(total_production_cost[i]*sga_expenserate) for i in range(num_years)]\n",
        "print(\"SG&A Expense rate =\", sga_expenserate_yrs)"
      ],
      "metadata": {
        "colab": {
          "base_uri": "https://localhost:8080/"
        },
        "id": "rAYmFir0B4iJ",
        "outputId": "00c88708-0133-41da-c212-45d561fd3e4c"
      },
      "execution_count": 45,
      "outputs": [
        {
          "output_type": "stream",
          "name": "stdout",
          "text": [
            "SG&A Expense rate = [482560.0, 528880.0, 579669.8799999999, 635360.9834200001, 696426.27832003]\n"
          ]
        }
      ]
    },
    {
      "cell_type": "code",
      "source": [
        "#Earnings\n",
        "gross_margin = [(sales_rev[i]-total_production_cost[i]) for i in range(num_years)]\n",
        "print(\"Gross Margin =\", gross_margin)\n",
        "earnings_before_taxes = [gross_margin[i]-sga_expenserate_yrs[i] for i in range(num_years)]\n",
        "print(\"Earnings before taxes =\", earnings_before_taxes)\n",
        "taxes = [earnings_before_taxes[i]*effective_taxrate for i in range(num_years)]\n",
        "print(\"Taxes =\", taxes)\n",
        "earnings_after_taxes = [earnings_before_taxes[i]-taxes[i] for i in range(num_years)]\n",
        "print(\"Eanings after taxes =\", earnings_after_taxes)"
      ],
      "metadata": {
        "colab": {
          "base_uri": "https://localhost:8080/"
        },
        "id": "6THP2a5HClQr",
        "outputId": "813dfcce-934a-4dbd-8ad0-f8858e36c871"
      },
      "execution_count": 46,
      "outputs": [
        {
          "output_type": "stream",
          "name": "stdout",
          "text": [
            "Gross Margin = [3568000.0, 4225000.0, 4985261.500000001, 5863881.3385, 6878073.957273066]\n",
            "Earnings before taxes = [3085440.0, 3696120.0, 4405591.620000001, 5228520.355079999, 6181647.678953036]\n",
            "Taxes = [1049049.6, 1256680.8, 1497901.1508000004, 1777696.9207271999, 2101760.2108440325]\n",
            "Eanings after taxes = [2036390.4, 2439439.2, 2907690.4692000006, 3450823.4343527993, 4079887.4681090033]\n"
          ]
        }
      ]
    },
    {
      "cell_type": "code",
      "source": [
        "#NPV over 5 years\n",
        "import numpy_financial as npf\n",
        "NPV_earnings =  npf.npv(discount_rate, [0] + earnings_after_taxes)\n",
        "print(\"Net Present Value : \", NPV_earnings)"
      ],
      "metadata": {
        "colab": {
          "base_uri": "https://localhost:8080/"
        },
        "id": "2y32Uii8D-g6",
        "outputId": "1dafe201-6ccc-411e-d313-81fd86b3c7ce"
      },
      "execution_count": 47,
      "outputs": [
        {
          "output_type": "stream",
          "name": "stdout",
          "text": [
            "Net Present Value :  10942168.30287864\n"
          ]
        }
      ]
    }
  ]
}