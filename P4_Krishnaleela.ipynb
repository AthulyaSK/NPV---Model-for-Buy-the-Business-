{
  "nbformat": 4,
  "nbformat_minor": 0,
  "metadata": {
    "colab": {
      "provenance": [],
      "collapsed_sections": []
    },
    "kernelspec": {
      "name": "python3",
      "display_name": "Python 3"
    },
    "language_info": {
      "name": "python"
    }
  },
  "cells": [
    {
      "cell_type": "markdown",
      "source": [
        "#Smart Watch Development Analysis\n",
        "\n",
        "###Company is thinking to upgrade four below features:\n",
        "###1. GPS and Wi-Fi with the most up-to-date technology. \n",
        "###2. Making it modular, so that it consists of replaceable and interchangeable modules.\n",
        "###3. Adding a high-end camera.\n",
        "###4. Adding a high-end battery, so that it lasts twice as long as the competing products."
      ],
      "metadata": {
        "id": "O8QNpEOFLTR4"
      }
    },
    {
      "cell_type": "code",
      "source": [
        "#inputs\n",
        "market_multiplier = 1.1\n",
        "p_baseline = 100\n",
        "p_gps = 40\n",
        "p_modular = 35\n",
        "p_camera = 20\n",
        "p_battery = 15\n",
        "investment_cost = 90"
      ],
      "metadata": {
        "id": "meglomm_LyhX"
      },
      "execution_count": 2,
      "outputs": []
    },
    {
      "cell_type": "code",
      "source": [
        "#profit projection calculation\n",
        "profit = p_baseline + market_multiplier*((p_gps + p_modular + p_camera + p_battery)**0.5)\n",
        "net_profit = profit - investment_cost\n",
        "print(f'The projected net profit of launching this product is {net_profit} million dollars')"
      ],
      "metadata": {
        "colab": {
          "base_uri": "https://localhost:8080/"
        },
        "id": "A5gX6mzpMvHe",
        "outputId": "e86daba4-1f52-4994-b938-6945eabddae9"
      },
      "execution_count": 3,
      "outputs": [
        {
          "output_type": "stream",
          "name": "stdout",
          "text": [
            "The projected net profit of launching this product is 21.536897329871664 million dollars\n"
          ]
        }
      ]
    },
    {
      "cell_type": "markdown",
      "source": [
        "#Monte Carlo simulation"
      ],
      "metadata": {
        "id": "VG2TmZjnOvuf"
      }
    },
    {
      "cell_type": "markdown",
      "source": [
        "##Model for net_profit"
      ],
      "metadata": {
        "id": "Ojdz3hzfO26m"
      }
    },
    {
      "cell_type": "code",
      "source": [
        "#model for netprofit\n",
        "def net_profit(market_multiplier, p_baseline, p_gps, p_modular, p_camera, p_battery, investment_cost):\n",
        "  profit = p_baseline + market_multiplier*((p_gps + p_modular + p_camera + p_battery)**0.5)\n",
        "  net_profit = profit - investment_cost\n",
        "  return net_profit\n"
      ],
      "metadata": {
        "id": "9sRP_kRuO9S6"
      },
      "execution_count": 5,
      "outputs": []
    },
    {
      "cell_type": "markdown",
      "source": [
        "##Lets simulate the following independent random variables with 10000 simulated numbers\n",
        "###• 𝑀 = N(1.1, .1)\n",
        "###• Baseline = N(100, 10)\n",
        "###• GPS.WIFI = 𝑁(40,8)\n",
        "###• Modular = 𝑁(35,20)\n",
        "###• Camera = 𝑁(20,7)\n",
        "###• Battery = 𝑁(15,8) \n",
        "###• Cost of Investment = 𝑁(90,10)"
      ],
      "metadata": {
        "id": "beTOPe0dQFmQ"
      }
    },
    {
      "cell_type": "code",
      "source": [
        "import numpy as np\n",
        "import matplotlib.pyplot as plt"
      ],
      "metadata": {
        "id": "qKQenHcVQvKS"
      },
      "execution_count": 6,
      "outputs": []
    },
    {
      "cell_type": "code",
      "source": [
        "num_sim = 10000\n",
        "sim_market_multiplier = np.random.normal(1.1,0.1,num_sim)\n",
        "sim_baseline = np.random.normal(100,10,num_sim)\n",
        "sim_gps = np.random.normal(40,8,num_sim)\n",
        "sim_modular = np.random.normal(35,20,num_sim)\n",
        "sim_camera = np.random.normal(20,7,num_sim)\n",
        "sim_battery = np.random.normal(15,8,num_sim)\n",
        "sim_investment = np.random.normal(90,10,num_sim)\n"
      ],
      "metadata": {
        "id": "KkNUtV-rQ43m"
      },
      "execution_count": 8,
      "outputs": []
    },
    {
      "cell_type": "code",
      "source": [
        "#Q1)Histogram of the simulated 10000 net profit outcomes\n",
        "sim_profits = [net_profit(market_multiplier=sim_market_multiplier[i],\n",
        "                          p_baseline=sim_baseline[i], \n",
        "                          p_gps=sim_gps[i], \n",
        "                          p_modular=sim_modular[i], \n",
        "                          p_camera=sim_camera[i], \n",
        "                          p_battery=sim_battery[i], \n",
        "                          investment_cost=sim_investment[i]) for i in range(num_sim)]\n",
        "plt.hist(sim_profits)\n",
        "##Simulated probability of negative net_profit values are really less as only few values are below 0 out of 10,000"
      ],
      "metadata": {
        "colab": {
          "base_uri": "https://localhost:8080/",
          "height": 334
        },
        "id": "tcd1fvbYRwhf",
        "outputId": "0e6ae84b-1551-47fd-e7d0-c96b0e0493c0"
      },
      "execution_count": 13,
      "outputs": [
        {
          "output_type": "execute_result",
          "data": {
            "text/plain": [
              "(array([  14.,   98.,  446., 1419., 2598., 2763., 1782.,  688.,  172.,\n",
              "          20.]), array([-32.41566797, -21.91346236, -11.41125675,  -0.90905113,\n",
              "          9.59315448,  20.09536009,  30.59756571,  41.09977132,\n",
              "         51.60197694,  62.10418255,  72.60638816]), <a list of 10 Patch objects>)"
            ]
          },
          "metadata": {},
          "execution_count": 13
        },
        {
          "output_type": "display_data",
          "data": {
            "text/plain": [
              "<Figure size 432x288 with 1 Axes>"
            ],
            "image/png": "[encoded data removed]"
          },
          "metadata": {
            "needs_background": "light"
          }
        }
      ]
    },
    {
      "cell_type": "markdown",
      "source": [
        "##Multiple Linear Regression on the simulated data to see how simulated input effect net profits"
      ],
      "metadata": {
        "id": "0NSTLtl5Thed"
      }
    },
    {
      "cell_type": "code",
      "source": [
        "import pandas as pd\n",
        "import statsmodels.api as sm"
      ],
      "metadata": {
        "id": "NqJuQrdmTubC"
      },
      "execution_count": 17,
      "outputs": []
    },
    {
      "cell_type": "code",
      "source": [
        "data = pd.DataFrame(zip(sim_profits, sim_market_multiplier, sim_baseline, sim_gps, sim_modular, sim_camera, sim_battery, sim_investment),\n",
        "                    columns= ['sim_profits', 'sim_market_multiplier', 'sim_baseline', 'sim_gps', 'sim_modular', 'sim_camera', 'sim_battery', 'sim_investment'])\n",
        "data"
      ],
      "metadata": {
        "colab": {
          "base_uri": "https://localhost:8080/",
          "height": 424
        },
        "id": "6MDfhcOmU2S2",
        "outputId": "32797e9f-6667-4f20-cb27-933f946e4efd"
      },
      "execution_count": 18,
      "outputs": [
        {
          "output_type": "execute_result",
          "data": {
            "text/plain": [
              "      sim_profits  sim_market_multiplier  sim_baseline    sim_gps  \\\n",
              "0       23.232218               1.011922     99.110225  48.842828   \n",
              "1       20.486635               1.163586     89.572586  37.770815   \n",
              "2       35.843841               1.211409    100.860903  33.116983   \n",
              "3       23.489725               1.016325     95.620690  47.331134   \n",
              "4       29.910880               0.976105    113.215171  36.441753   \n",
              "...           ...                    ...           ...        ...   \n",
              "9995    30.875001               1.000361    108.453008  42.549801   \n",
              "9996     7.579525               1.142950    104.256363  33.256182   \n",
              "9997    17.072723               1.163308    104.369452  43.186275   \n",
              "9998    32.148787               1.017935    112.362393  34.660015   \n",
              "9999    28.783224               0.982472    101.626373  37.923887   \n",
              "\n",
              "      sim_modular  sim_camera  sim_battery  sim_investment  \n",
              "0       40.245996   34.825047    15.544478       87.828040  \n",
              "1       65.102651   27.606746    15.878422       83.162875  \n",
              "2       38.982080   17.405659    17.097516       77.524661  \n",
              "3       30.981543   24.277080    31.559868       83.902342  \n",
              "4       25.277858   21.580913    22.113531       93.326094  \n",
              "...           ...         ...          ...             ...  \n",
              "9995    30.357648   14.356651    16.986298       87.792006  \n",
              "9996    50.887425   14.694921    13.633838      108.798162  \n",
              "9997    42.581042   25.877186     9.533846      100.102543  \n",
              "9998    30.848728   33.312149    14.987965       91.073065  \n",
              "9999    32.397106   25.499162    12.588010       83.072576  \n",
              "\n",
              "[10000 rows x 8 columns]"
            ],
            "text/html": [
              "\n",
              "  <div id=\"df-689266f1-e4b2-4138-828d-6ba61e914582\">\n",
              "    <div class=\"colab-df-container\">\n",
              "      <div>\n",
              "<style scoped>\n",
              "    .dataframe tbody tr th:only-of-type {\n",
              "        vertical-align: middle;\n",
              "    }\n",
              "\n",
              "    .dataframe tbody tr th {\n",
              "        vertical-align: top;\n",
              "    }\n",
              "\n",
              "    .dataframe thead th {\n",
              "        text-align: right;\n",
              "    }\n",
              "</style>\n",
              "<table border=\"1\" class=\"dataframe\">\n",
              "  <thead>\n",
              "    <tr style=\"text-align: right;\">\n",
              "      <th></th>\n",
              "      <th>sim_profits</th>\n",
              "      <th>sim_market_multiplier</th>\n",
              "      <th>sim_baseline</th>\n",
              "      <th>sim_gps</th>\n",
              "      <th>sim_modular</th>\n",
              "      <th>sim_camera</th>\n",
              "      <th>sim_battery</th>\n",
              "      <th>sim_investment</th>\n",
              "    </tr>\n",
              "  </thead>\n",
              "  <tbody>\n",
              "    <tr>\n",
              "      <th>0</th>\n",
              "      <td>23.232218</td>\n",
              "      <td>1.011922</td>\n",
              "      <td>99.110225</td>\n",
              "      <td>48.842828</td>\n",
              "      <td>40.245996</td>\n",
              "      <td>34.825047</td>\n",
              "      <td>15.544478</td>\n",
              "      <td>87.828040</td>\n",
              "    </tr>\n",
              "    <tr>\n",
              "      <th>1</th>\n",
              "      <td>20.486635</td>\n",
              "      <td>1.163586</td>\n",
              "      <td>89.572586</td>\n",
              "      <td>37.770815</td>\n",
              "      <td>65.102651</td>\n",
              "      <td>27.606746</td>\n",
              "      <td>15.878422</td>\n",
              "      <td>83.162875</td>\n",
              "    </tr>\n",
              "    <tr>\n",
              "      <th>2</th>\n",
              "      <td>35.843841</td>\n",
              "      <td>1.211409</td>\n",
              "      <td>100.860903</td>\n",
              "      <td>33.116983</td>\n",
              "      <td>38.982080</td>\n",
              "      <td>17.405659</td>\n",
              "      <td>17.097516</td>\n",
              "      <td>77.524661</td>\n",
              "    </tr>\n",
              "    <tr>\n",
              "      <th>3</th>\n",
              "      <td>23.489725</td>\n",
              "      <td>1.016325</td>\n",
              "      <td>95.620690</td>\n",
              "      <td>47.331134</td>\n",
              "      <td>30.981543</td>\n",
              "      <td>24.277080</td>\n",
              "      <td>31.559868</td>\n",
              "      <td>83.902342</td>\n",
              "    </tr>\n",
              "    <tr>\n",
              "      <th>4</th>\n",
              "      <td>29.910880</td>\n",
              "      <td>0.976105</td>\n",
              "      <td>113.215171</td>\n",
              "      <td>36.441753</td>\n",
              "      <td>25.277858</td>\n",
              "      <td>21.580913</td>\n",
              "      <td>22.113531</td>\n",
              "      <td>93.326094</td>\n",
              "    </tr>\n",
              "    <tr>\n",
              "      <th>...</th>\n",
              "      <td>...</td>\n",
              "      <td>...</td>\n",
              "      <td>...</td>\n",
              "      <td>...</td>\n",
              "      <td>...</td>\n",
              "      <td>...</td>\n",
              "      <td>...</td>\n",
              "      <td>...</td>\n",
              "    </tr>\n",
              "    <tr>\n",
              "      <th>9995</th>\n",
              "      <td>30.875001</td>\n",
              "      <td>1.000361</td>\n",
              "      <td>108.453008</td>\n",
              "      <td>42.549801</td>\n",
              "      <td>30.357648</td>\n",
              "      <td>14.356651</td>\n",
              "      <td>16.986298</td>\n",
              "      <td>87.792006</td>\n",
              "    </tr>\n",
              "    <tr>\n",
              "      <th>9996</th>\n",
              "      <td>7.579525</td>\n",
              "      <td>1.142950</td>\n",
              "      <td>104.256363</td>\n",
              "      <td>33.256182</td>\n",
              "      <td>50.887425</td>\n",
              "      <td>14.694921</td>\n",
              "      <td>13.633838</td>\n",
              "      <td>108.798162</td>\n",
              "    </tr>\n",
              "    <tr>\n",
              "      <th>9997</th>\n",
              "      <td>17.072723</td>\n",
              "      <td>1.163308</td>\n",
              "      <td>104.369452</td>\n",
              "      <td>43.186275</td>\n",
              "      <td>42.581042</td>\n",
              "      <td>25.877186</td>\n",
              "      <td>9.533846</td>\n",
              "      <td>100.102543</td>\n",
              "    </tr>\n",
              "    <tr>\n",
              "      <th>9998</th>\n",
              "      <td>32.148787</td>\n",
              "      <td>1.017935</td>\n",
              "      <td>112.362393</td>\n",
              "      <td>34.660015</td>\n",
              "      <td>30.848728</td>\n",
              "      <td>33.312149</td>\n",
              "      <td>14.987965</td>\n",
              "      <td>91.073065</td>\n",
              "    </tr>\n",
              "    <tr>\n",
              "      <th>9999</th>\n",
              "      <td>28.783224</td>\n",
              "      <td>0.982472</td>\n",
              "      <td>101.626373</td>\n",
              "      <td>37.923887</td>\n",
              "      <td>32.397106</td>\n",
              "      <td>25.499162</td>\n",
              "      <td>12.588010</td>\n",
              "      <td>83.072576</td>\n",
              "    </tr>\n",
              "  </tbody>\n",
              "</table>\n",
              "<p>10000 rows × 8 columns</p>\n",
              "</div>\n",
              "      <button class=\"colab-df-convert\" onclick=\"convertToInteractive('df-689266f1-e4b2-4138-828d-6ba61e914582')\"\n",
              "              title=\"Convert this dataframe to an interactive table.\"\n",
              "              style=\"display:none;\">\n",
              "        \n",
              "  <svg xmlns=\"http://www.w3.org/2000/svg\" height=\"24px\"viewBox=\"0 0 24 24\"\n",
              "       width=\"24px\">\n",
              "    <path d=\"M0 0h24v24H0V0z\" fill=\"none\"/>\n",
              "    <path d=\"M18.56 5.44l.94 2.06.94-2.06 2.06-.94-2.06-.94-.94-2.06-.94 2.06-2.06.94zm-11 1L8.5 8.5l.94-2.06 2.06-.94-2.06-.94L8.5 2.5l-.94 2.06-2.06.94zm10 10l.94 2.06.94-2.06 2.06-.94-2.06-.94-.94-2.06-.94 2.06-2.06.94z\"/><path d=\"M17.41 7.96l-1.37-1.37c-.4-.4-.92-.59-1.43-.59-.52 0-1.04.2-1.43.59L10.3 9.45l-7.72 7.72c-.78.78-.78 2.05 0 2.83L4 21.41c.39.39.9.59 1.41.59.51 0 1.02-.2 1.41-.59l7.78-7.78 2.81-2.81c.8-.78.8-2.07 0-2.86zM5.41 20L4 18.59l7.72-7.72 1.47 1.35L5.41 20z\"/>\n",
              "  </svg>\n",
              "      </button>\n",
              "      \n",
              "  <style>\n",
              "    .colab-df-container {\n",
              "      display:flex;\n",
              "      flex-wrap:wrap;\n",
              "      gap: 12px;\n",
              "    }\n",
              "\n",
              "    .colab-df-convert {\n",
              "      background-color: #E8F0FE;\n",
              "      border: none;\n",
              "      border-radius: 50%;\n",
              "      cursor: pointer;\n",
              "      display: none;\n",
              "      fill: #1967D2;\n",
              "      height: 32px;\n",
              "      padding: 0 0 0 0;\n",
              "      width: 32px;\n",
              "    }\n",
              "\n",
              "    .colab-df-convert:hover {\n",
              "      background-color: #E2EBFA;\n",
              "      box-shadow: 0px 1px 2px rgba(60, 64, 67, 0.3), 0px 1px 3px 1px rgba(60, 64, 67, 0.15);\n",
              "      fill: #174EA6;\n",
              "    }\n",
              "\n",
              "    [theme=dark] .colab-df-convert {\n",
              "      background-color: #3B4455;\n",
              "      fill: #D2E3FC;\n",
              "    }\n",
              "\n",
              "    [theme=dark] .colab-df-convert:hover {\n",
              "      background-color: #434B5C;\n",
              "      box-shadow: 0px 1px 3px 1px rgba(0, 0, 0, 0.15);\n",
              "      filter: drop-shadow(0px 1px 2px rgba(0, 0, 0, 0.3));\n",
              "      fill: #FFFFFF;\n",
              "    }\n",
              "  </style>\n",
              "\n",
              "      <script>\n",
              "        const buttonEl =\n",
              "          document.querySelector('#df-689266f1-e4b2-4138-828d-6ba61e914582 button.colab-df-convert');\n",
              "        buttonEl.style.display =\n",
              "          google.colab.kernel.accessAllowed ? 'block' : 'none';\n",
              "\n",
              "        async function convertToInteractive(key) {\n",
              "          const element = document.querySelector('#df-689266f1-e4b2-4138-828d-6ba61e914582');\n",
              "          const dataTable =\n",
              "            await google.colab.kernel.invokeFunction('convertToInteractive',\n",
              "                                                     [key], {});\n",
              "          if (!dataTable) return;\n",
              "\n",
              "          const docLinkHtml = 'Like what you see? Visit the ' +\n",
              "            '<a target=\"_blank\" href=https://colab.research.google.com/notebooks/data_table.ipynb>data table notebook</a>'\n",
              "            + ' to learn more about interactive tables.';\n",
              "          element.innerHTML = '';\n",
              "          dataTable['output_type'] = 'display_data';\n",
              "          await google.colab.output.renderOutput(dataTable, element);\n",
              "          const docLink = document.createElement('div');\n",
              "          docLink.innerHTML = docLinkHtml;\n",
              "          element.appendChild(docLink);\n",
              "        }\n",
              "      </script>\n",
              "    </div>\n",
              "  </div>\n",
              "  "
            ]
          },
          "metadata": {},
          "execution_count": 18
        }
      ]
    },
    {
      "cell_type": "code",
      "source": [
        "X = sm.add_constant(data[['sim_market_multiplier', 'sim_baseline', 'sim_gps', 'sim_modular', 'sim_camera', 'sim_battery', 'sim_investment']])\n",
        "Y = data['sim_profits']\n"
      ],
      "metadata": {
        "colab": {
          "base_uri": "https://localhost:8080/"
        },
        "id": "QOJRaND0VhMb",
        "outputId": "2dc27916-8aa3-4c3b-dec0-e5bfe9a05109"
      },
      "execution_count": 20,
      "outputs": [
        {
          "output_type": "stream",
          "name": "stderr",
          "text": [
            "/usr/local/lib/python3.7/dist-packages/statsmodels/tsa/tsatools.py:142: FutureWarning: In a future version of pandas all arguments of concat except for the argument 'objs' will be keyword-only\n",
            "  x = pd.concat(x[::order], 1)\n"
          ]
        }
      ]
    },
    {
      "cell_type": "code",
      "source": [
        "model =sm.OLS(Y, X, hasconstant=True)\n",
        "result = model.fit()\n",
        "result.summary()"
      ],
      "metadata": {
        "colab": {
          "base_uri": "https://localhost:8080/",
          "height": 614
        },
        "id": "USdVWdrqWWKT",
        "outputId": "cc52da1f-dc51-428c-f9e6-4fba604f17ea"
      },
      "execution_count": 24,
      "outputs": [
        {
          "output_type": "execute_result",
          "data": {
            "text/plain": [
              "<class 'statsmodels.iolib.summary.Summary'>\n",
              "\"\"\"\n",
              "                            OLS Regression Results                            \n",
              "==============================================================================\n",
              "Dep. Variable:            sim_profits   R-squared:                       1.000\n",
              "Model:                            OLS   Adj. R-squared:                  1.000\n",
              "Method:                 Least Squares   F-statistic:                 1.168e+07\n",
              "Date:                Mon, 07 Nov 2022   Prob (F-statistic):               0.00\n",
              "Time:                        23:08:45   Log-Likelihood:                 4223.3\n",
              "No. Observations:               10000   AIC:                            -8431.\n",
              "Df Residuals:                    9992   BIC:                            -8373.\n",
              "Df Model:                           7                                         \n",
              "Covariance Type:            nonrobust                                         \n",
              "=========================================================================================\n",
              "                            coef    std err          t      P>|t|      [0.025      0.975]\n",
              "-----------------------------------------------------------------------------------------\n",
              "const                    -5.8591      0.029   -201.317      0.000      -5.916      -5.802\n",
              "sim_market_multiplier    10.4514      0.016    667.585      0.000      10.421      10.482\n",
              "sim_baseline              0.9997      0.000   6348.918      0.000       0.999       1.000\n",
              "sim_gps                   0.0535      0.000    270.212      0.000       0.053       0.054\n",
              "sim_modular               0.0533   7.93e-05    671.729      0.000       0.053       0.053\n",
              "sim_camera                0.0531      0.000    233.236      0.000       0.053       0.054\n",
              "sim_battery               0.0533      0.000    268.756      0.000       0.053       0.054\n",
              "sim_investment           -1.0001      0.000  -6358.421      0.000      -1.000      -1.000\n",
              "==============================================================================\n",
              "Omnibus:                     5927.826   Durbin-Watson:                   2.004\n",
              "Prob(Omnibus):                  0.000   Jarque-Bera (JB):            75332.500\n",
              "Skew:                          -2.634   Prob(JB):                         0.00\n",
              "Kurtosis:                      15.371   Cond. No.                     2.86e+03\n",
              "==============================================================================\n",
              "\n",
              "Notes:\n",
              "[1] Standard Errors assume that the covariance matrix of the errors is correctly specified.\n",
              "[2] The condition number is large, 2.86e+03. This might indicate that there are\n",
              "strong multicollinearity or other numerical problems.\n",
              "\"\"\""
            ],
            "text/html": [
              "<table class=\"simpletable\">\n",
              "<caption>OLS Regression Results</caption>\n",
              "<tr>\n",
              "  <th>Dep. Variable:</th>       <td>sim_profits</td>   <th>  R-squared:         </th> <td>   1.000</td> \n",
              "</tr>\n",
              "<tr>\n",
              "  <th>Model:</th>                   <td>OLS</td>       <th>  Adj. R-squared:    </th> <td>   1.000</td> \n",
              "</tr>\n",
              "<tr>\n",
              "  <th>Method:</th>             <td>Least Squares</td>  <th>  F-statistic:       </th> <td>1.168e+07</td>\n",
              "</tr>\n",
              "<tr>\n",
              "  <th>Date:</th>             <td>Mon, 07 Nov 2022</td> <th>  Prob (F-statistic):</th>  <td>  0.00</td>  \n",
              "</tr>\n",
              "<tr>\n",
              "  <th>Time:</th>                 <td>23:08:45</td>     <th>  Log-Likelihood:    </th> <td>  4223.3</td> \n",
              "</tr>\n",
              "<tr>\n",
              "  <th>No. Observations:</th>      <td> 10000</td>      <th>  AIC:               </th> <td>  -8431.</td> \n",
              "</tr>\n",
              "<tr>\n",
              "  <th>Df Residuals:</th>          <td>  9992</td>      <th>  BIC:               </th> <td>  -8373.</td> \n",
              "</tr>\n",
              "<tr>\n",
              "  <th>Df Model:</th>              <td>     7</td>      <th>                     </th>     <td> </td>    \n",
              "</tr>\n",
              "<tr>\n",
              "  <th>Covariance Type:</th>      <td>nonrobust</td>    <th>                     </th>     <td> </td>    \n",
              "</tr>\n",
              "</table>\n",
              "<table class=\"simpletable\">\n",
              "<tr>\n",
              "            <td></td>               <th>coef</th>     <th>std err</th>      <th>t</th>      <th>P>|t|</th>  <th>[0.025</th>    <th>0.975]</th>  \n",
              "</tr>\n",
              "<tr>\n",
              "  <th>const</th>                 <td>   -5.8591</td> <td>    0.029</td> <td> -201.317</td> <td> 0.000</td> <td>   -5.916</td> <td>   -5.802</td>\n",
              "</tr>\n",
              "<tr>\n",
              "  <th>sim_market_multiplier</th> <td>   10.4514</td> <td>    0.016</td> <td>  667.585</td> <td> 0.000</td> <td>   10.421</td> <td>   10.482</td>\n",
              "</tr>\n",
              "<tr>\n",
              "  <th>sim_baseline</th>          <td>    0.9997</td> <td>    0.000</td> <td> 6348.918</td> <td> 0.000</td> <td>    0.999</td> <td>    1.000</td>\n",
              "</tr>\n",
              "<tr>\n",
              "  <th>sim_gps</th>               <td>    0.0535</td> <td>    0.000</td> <td>  270.212</td> <td> 0.000</td> <td>    0.053</td> <td>    0.054</td>\n",
              "</tr>\n",
              "<tr>\n",
              "  <th>sim_modular</th>           <td>    0.0533</td> <td> 7.93e-05</td> <td>  671.729</td> <td> 0.000</td> <td>    0.053</td> <td>    0.053</td>\n",
              "</tr>\n",
              "<tr>\n",
              "  <th>sim_camera</th>            <td>    0.0531</td> <td>    0.000</td> <td>  233.236</td> <td> 0.000</td> <td>    0.053</td> <td>    0.054</td>\n",
              "</tr>\n",
              "<tr>\n",
              "  <th>sim_battery</th>           <td>    0.0533</td> <td>    0.000</td> <td>  268.756</td> <td> 0.000</td> <td>    0.053</td> <td>    0.054</td>\n",
              "</tr>\n",
              "<tr>\n",
              "  <th>sim_investment</th>        <td>   -1.0001</td> <td>    0.000</td> <td>-6358.421</td> <td> 0.000</td> <td>   -1.000</td> <td>   -1.000</td>\n",
              "</tr>\n",
              "</table>\n",
              "<table class=\"simpletable\">\n",
              "<tr>\n",
              "  <th>Omnibus:</th>       <td>5927.826</td> <th>  Durbin-Watson:     </th> <td>   2.004</td> \n",
              "</tr>\n",
              "<tr>\n",
              "  <th>Prob(Omnibus):</th>  <td> 0.000</td>  <th>  Jarque-Bera (JB):  </th> <td>75332.500</td>\n",
              "</tr>\n",
              "<tr>\n",
              "  <th>Skew:</th>           <td>-2.634</td>  <th>  Prob(JB):          </th> <td>    0.00</td> \n",
              "</tr>\n",
              "<tr>\n",
              "  <th>Kurtosis:</th>       <td>15.371</td>  <th>  Cond. No.          </th> <td>2.86e+03</td> \n",
              "</tr>\n",
              "</table><br/><br/>Notes:<br/>[1] Standard Errors assume that the covariance matrix of the errors is correctly specified.<br/>[2] The condition number is large, 2.86e+03. This might indicate that there are<br/>strong multicollinearity or other numerical problems."
            ]
          },
          "metadata": {},
          "execution_count": 24
        }
      ]
    },
    {
      "cell_type": "markdown",
      "source": [
        "Here, we can see the coefficients reflect the relationship of each variable with output. For eg. Effect of battery being one std dev above the baseline is 0.05 million on the net_profits "
      ],
      "metadata": {
        "id": "aewjeLaJW70z"
      }
    }
  ]
}